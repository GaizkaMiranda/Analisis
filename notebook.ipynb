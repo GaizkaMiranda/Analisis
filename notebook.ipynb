{
 "cells": [
  {
   "cell_type": "markdown",
   "id": "249e0a7e",
   "metadata": {},
   "source": [
    "Import de todas las librerias necesarias.\n",
    "Nummpy: Operaciones numéricas eficientes y generación de datos aleatorios\n",
    "Pandas: Manipulación estructurada de datos\n",
    "Faker: Generación de datos realistas\n",
    "Matplotlib: Visualización gráfica de datos"
   ]
  },
  {
   "cell_type": "code",
   "execution_count": 1,
   "id": "e4825ad4",
   "metadata": {},
   "outputs": [],
   "source": [
    "import numpy as np\n",
    "import pandas as pd\n",
    "from faker import Faker\n",
    "import matplotlib.pyplot as plt"
   ]
  },
  {
   "cell_type": "markdown",
   "id": "e7697aef",
   "metadata": {},
   "source": [
    "Inicializamos el generador de datos \"Faker\" para generar datos realistas como los nombres. Mediante \"es_ES\" generamos datos en castellano, por defecto los crearía en inglés."
   ]
  },
  {
   "cell_type": "code",
   "execution_count": 2,
   "id": "395fbea1",
   "metadata": {},
   "outputs": [],
   "source": [
    "fake = Faker('es_ES')"
   ]
  },
  {
   "cell_type": "markdown",
   "id": "275ad0f3",
   "metadata": {},
   "source": [
    "Configuramos las probabilidades para crear las notas. Suponemos que sacar entre 5 y 7 es lo más habitual, por eso lo establecemos a 0.5 y el otro 0.5 de probabilidad para el resto de notas.\n"
   ]
  },
  {
   "cell_type": "code",
   "execution_count": 3,
   "id": "2ac0d53b",
   "metadata": {},
   "outputs": [],
   "source": [
    "prob_5_7 = 0.5  \n",
    "prob_resto = 1 - prob_5_7 "
   ]
  },
  {
   "cell_type": "markdown",
   "id": "46187971",
   "metadata": {},
   "source": [
    "Generamos las 100 notas gracias a la librería numpy y su función random. Estas se encontrarán entre 1 y 10."
   ]
  },
  {
   "cell_type": "code",
   "execution_count": 4,
   "id": "1f140d38",
   "metadata": {},
   "outputs": [],
   "source": [
    "notas = np.where(\n",
    "    np.random.rand(100) < prob_5_7,  \n",
    "    np.clip(np.random.normal(loc=6, scale=1, size=100), 5, 7),  \n",
    "    np.random.randint(1, 11, size=100) \n",
    ")"
   ]
  },
  {
   "cell_type": "markdown",
   "id": "f3dfc4df",
   "metadata": {},
   "source": [
    "Creamos un diccionario de datos estructurado que luego se convertirá en un DataFrame de pandas.\n",
    "Generamos una lista de 100 nombres completos aleatorios en español usando Faker, asignamos aleatoriamente una de las 3 asignaturas a cada estudiante y finalmente Asignamos las notas generadas previamente (array NumPy) y las convertimos a enteros.\n",
    "\n"
   ]
  },
  {
   "cell_type": "code",
   "execution_count": 5,
   "id": "9d4e0705",
   "metadata": {},
   "outputs": [],
   "source": [
    "data = {\n",
    "    'Nombre': [fake.name() for _ in range(100)],\n",
    "    'Asignatura': np.random.choice(['Matemáticas', 'Física', 'Programación'], 100),\n",
    "    'Nota': notas.astype(int)  # Convertir a enteros\n",
    "}"
   ]
  },
  {
   "cell_type": "markdown",
   "id": "10806798",
   "metadata": {},
   "source": [
    "Convertimos el diccionario data en una tabla estructurada (DataFrame) de pandas con columnas \"Nombre\", \"Asignatura\" y \"Nota\" y lo guardamos en csv (alumnos_deusto)."
   ]
  },
  {
   "cell_type": "code",
   "execution_count": 6,
   "id": "2e7517f4",
   "metadata": {},
   "outputs": [],
   "source": [
    "df = pd.DataFrame(data)\n",
    "df.to_csv('alumnos_deusto.csv', index=False)"
   ]
  },
  {
   "cell_type": "markdown",
   "id": "c6c464d7",
   "metadata": {},
   "source": [
    "Creamos un histograma con las notas del DataFrame, dividiéndolas en 10 intervalos (bins) y añadiendo bordes negros (edgecolor).\n",
    "Le añadimos título al gráfico (\"Distribución de Notas\") y etiquetas a los ejes (X: \"Nota\", Y: \"Frecuencia\") ty mostramos el histograma."
   ]
  },
  {
   "cell_type": "code",
   "execution_count": 7,
   "id": "10d75d2c",
   "metadata": {},
   "outputs": [
    {
     "data": {
      "image/png": "[encoded data removed]",
      "text/plain": [
       "<Figure size 640x480 with 1 Axes>"
      ]
     },
     "metadata": {},
     "output_type": "display_data"
    }
   ],
   "source": [
    "plt.hist(df['Nota'], bins=10, edgecolor='black')\n",
    "plt.title('Distribución de Notas')\n",
    "plt.xlabel('Nota')\n",
    "plt.ylabel('Frecuencia')\n",
    "plt.show()"
   ]
  },
  {
   "cell_type": "markdown",
   "id": "287a2dd8",
   "metadata": {},
   "source": [
    "Como podemos ver, la mayoría de notas, efectivamente se sitúan entre el 5 y el 7, creando una distribución normal."
   ]
  }
 ],
 "metadata": {
  "kernelspec": {
   "display_name": "venv",
   "language": "python",
   "name": "python3"
  },
  "language_info": {
   "codemirror_mode": {
    "name": "ipython",
    "version": 3
   },
   "file_extension": ".py",
   "mimetype": "text/x-python",
   "name": "python",
   "nbconvert_exporter": "python",
   "pygments_lexer": "ipython3",
   "version": "3.8.0"
  }
 },
 "nbformat": 4,
 "nbformat_minor": 5
}
