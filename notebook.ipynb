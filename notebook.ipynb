{
 "cells": [
  {
   "cell_type": "markdown",
   "id": "249e0a7e",
   "metadata": {},
   "source": [
    "Import de todas las librerias necesarias.\n",
    "Nummpy: Operaciones numéricas eficientes y generación de datos aleatorios\n",
    "Pandas: Manipulación estructurada de datos\n",
    "Faker: Generación de datos realistas\n",
    "Matplotlib: Visualización gráfica de datos"
   ]
  },
  {
   "cell_type": "code",
   "execution_count": 83,
   "id": "e4825ad4",
   "metadata": {},
   "outputs": [],
   "source": [
    "import numpy as np\n",
    "import pandas as pd\n",
    "from faker import Faker\n",
    "import matplotlib.pyplot as plt"
   ]
  },
  {
   "cell_type": "markdown",
   "id": "e7697aef",
   "metadata": {},
   "source": [
    "Inicializamos el generador de datos \"Faker\" para generar datos realistas como los nombres. Mediante \"es_ES\" generamos datos en castellano, por defecto los crearía en inglés."
   ]
  },
  {
   "cell_type": "code",
   "execution_count": 84,
   "id": "395fbea1",
   "metadata": {},
   "outputs": [],
   "source": [
    "fake = Faker('es_ES')"
   ]
  },
  {
   "cell_type": "markdown",
   "id": "275ad0f3",
   "metadata": {},
   "source": [
    "Configuramos las probabilidades para crear las notas. Suponemos que sacar entre 5 y 7 es lo más habitual, por eso lo establecemos a 0.5 y el otro 0.5 de probabilidad para el resto de notas.\n"
   ]
  },
  {
   "cell_type": "code",
   "execution_count": 85,
   "id": "2ac0d53b",
   "metadata": {},
   "outputs": [],
   "source": [
    "prob_5_7 = 0.5  \n",
    "prob_resto = 1 - prob_5_7 "
   ]
  },
  {
   "cell_type": "markdown",
   "id": "46187971",
   "metadata": {},
   "source": [
    "Generamos las 1000 notas gracias a la librería numpy y su función random. Estas se encontrarán entre 1 y 10."
   ]
  },
  {
   "cell_type": "code",
   "execution_count": 86,
   "id": "1f140d38",
   "metadata": {},
   "outputs": [],
   "source": [
    "notas = np.where(\n",
    "    np.random.rand(1000) < prob_5_7,  \n",
    "    np.clip(np.random.normal(loc=6, scale=1, size=1000), 5, 7),  \n",
    "    np.random.randint(1, 11, size=1000) \n",
    ")"
   ]
  },
  {
   "cell_type": "markdown",
   "id": "f3dfc4df",
   "metadata": {},
   "source": [
    "Creamos un diccionario de datos estructurado que luego se convertirá en un DataFrame de pandas.\n",
    "Generamos una lista de 1000 nombres completos aleatorios en español usando Faker, asignamos aleatoriamente una de las 3 asignaturas a cada estudiante y finalmente Asignamos las notas generadas previamente (array NumPy) y las convertimos a enteros.\n",
    "\n"
   ]
  },
  {
   "cell_type": "code",
   "execution_count": 87,
   "id": "9d4e0705",
   "metadata": {},
   "outputs": [],
   "source": [
    "data = {\n",
    "    'DNI': np.random.randint(1000, 9999, size=1000),\n",
    "    'Nombre': [f\"{fake.first_name()} {fake.last_name()}\" for _ in range(1000)],\n",
    "    'Asignatura': np.random.choice(['Matematicas', 'Fisica', 'Programacion'], 1000),\n",
    "    'Nota': notas.astype(int)  # Convertir a enteros\n",
    "}"
   ]
  },
  {
   "cell_type": "markdown",
   "id": "10806798",
   "metadata": {},
   "source": [
    "Convertimos el diccionario data en una tabla estructurada (DataFrame) de pandas con columnas \"Nombre\", \"Asignatura\" y \"Nota\" y lo guardamos en csv (alumnos_deusto).\n",
    "\n",
    "Añadimos encoding='utf-8-sig' para que solamente se utilicen los caracteres estandar, ya que sin ello, Faker genera nombres con tildes, por lo que en el csv aparecen mal.\n",
    "\n",
    "Ejemplo: En vez de Menéndez, aparece MenÃ©ndez"
   ]
  },
  {
   "cell_type": "code",
   "execution_count": 88,
   "id": "2e7517f4",
   "metadata": {},
   "outputs": [],
   "source": [
    "df = pd.DataFrame(data)\n",
    "df.to_csv('alumnos_deusto.csv', index=False, encoding='utf-8-sig')"
   ]
  },
  {
   "cell_type": "markdown",
   "id": "c6c464d7",
   "metadata": {},
   "source": [
    "Creamos un histograma con las notas del DataFrame, dividiéndolas en 10 intervalos (bins) y añadiendo bordes negros (edgecolor).\n",
    "Le añadimos título al gráfico (\"Distribución de Notas\") y etiquetas a los ejes (X: \"Nota\", Y: \"Frecuencia\") ty mostramos el histograma."
   ]
  },
  {
   "cell_type": "code",
   "execution_count": 89,
   "id": "10d75d2c",
   "metadata": {},
   "outputs": [
    {
     "data": {
      "image/png": "[encoded data removed]",
      "text/plain": [
       "<Figure size 640x480 with 1 Axes>"
      ]
     },
     "metadata": {},
     "output_type": "display_data"
    }
   ],
   "source": [
    "plt.hist(df['Nota'], bins=10, edgecolor='black')\n",
    "plt.title('Distribución de Notas')\n",
    "plt.xlabel('Nota')\n",
    "plt.ylabel('Frecuencia')\n",
    "plt.show()"
   ]
  },
  {
   "cell_type": "markdown",
   "id": "287a2dd8",
   "metadata": {},
   "source": [
    "Como podemos ver, la mayoría de notas, efectivamente se sitúan entre el 5 y el 7, creando una distribución normal."
   ]
  },
  {
   "cell_type": "markdown",
   "id": "2da90a4e",
   "metadata": {},
   "source": [
    "Cargamos el csv original para dividirlo en 2 archivos (alumnos  notas)"
   ]
  },
  {
   "cell_type": "code",
   "execution_count": 90,
   "id": "ddeda245",
   "metadata": {},
   "outputs": [],
   "source": [
    "df = pd.read_csv('alumnos_deusto.csv', encoding='utf-8-sig')"
   ]
  },
  {
   "cell_type": "markdown",
   "id": "70677a3b",
   "metadata": {},
   "source": [
    "Archivo de alumnos (sin notas)"
   ]
  },
  {
   "cell_type": "code",
   "execution_count": 91,
   "id": "b56aabd0",
   "metadata": {},
   "outputs": [],
   "source": [
    "df[['Nombre']].to_csv('alumnos.csv', index=False)\n"
   ]
  },
  {
   "cell_type": "markdown",
   "id": "7e96ae44",
   "metadata": {},
   "source": [
    "Archivo de notas (asignatura + nota)"
   ]
  },
  {
   "cell_type": "code",
   "execution_count": 92,
   "id": "8c072d8b",
   "metadata": {},
   "outputs": [],
   "source": [
    "df[['Asignatura', 'Nota']].to_csv('notas.csv', index=False)\n"
   ]
  },
  {
   "cell_type": "markdown",
   "id": "51e1e080",
   "metadata": {},
   "source": [
    "## Limpieza"
   ]
  },
  {
   "cell_type": "markdown",
   "id": "459af9b0",
   "metadata": {},
   "source": []
  },
  {
   "cell_type": "markdown",
   "id": "ae0efe1a",
   "metadata": {},
   "source": [
    "Duplicados: verificamos que no haya. En caso de haber borramos la segunda aparición y lo guardamos en otro csv."
   ]
  },
  {
   "cell_type": "code",
   "execution_count": 93,
   "id": "7dbec85c",
   "metadata": {},
   "outputs": [],
   "source": [
    "duplicados = df[df[\"DNI\"].duplicated()]"
   ]
  },
  {
   "cell_type": "code",
   "execution_count": 94,
   "id": "f6654d4c",
   "metadata": {},
   "outputs": [
    {
     "name": "stdout",
     "output_type": "stream",
     "text": [
      "Hay DNIs duplicados:\n",
      "      DNI              Nombre    Asignatura  Nota\n",
      "128  1730       Ángela Cámara  Programacion     5\n",
      "274  1357         Román Acuña  Programacion     6\n",
      "317  1654      José Luis Ríos        Fisica     9\n",
      "320  4433  Carmelita Céspedes        Fisica     6\n",
      "329  2420      Teobaldo Ariza  Programacion     9\n",
      "..    ...                 ...           ...   ...\n",
      "962  8557   Desiderio Escrivá   Matematicas     7\n",
      "974  8739   Gabriela Calderon  Programacion     7\n",
      "986  7540        Moisés Mateu        Fisica     5\n",
      "987  6444    Cayetana Alemany        Fisica     9\n",
      "993  1838  Eleuterio Vendrell   Matematicas     7\n",
      "\n",
      "[63 rows x 4 columns]\n"
     ]
    }
   ],
   "source": [
    "if not duplicados.empty:\n",
    "    print(\"Hay DNIs duplicados:\")\n",
    "    print(duplicados)\n",
    "else:\n",
    "    print(\"No hay DNIs duplicados.\")"
   ]
  },
  {
   "cell_type": "code",
   "execution_count": 95,
   "id": "4a814dd7",
   "metadata": {},
   "outputs": [],
   "source": [
    "df_sin_duplicados = df.drop_duplicates(subset='DNI', keep='first')\n",
    "df_sin_duplicados.to_csv(\"alumnos_deusto_sin_duplicados.csv\", index=False)\n"
   ]
  }
 ],
 "metadata": {
  "kernelspec": {
   "display_name": "venv",
   "language": "python",
   "name": "python3"
  },
  "language_info": {
   "codemirror_mode": {
    "name": "ipython",
    "version": 3
   },
   "file_extension": ".py",
   "mimetype": "text/x-python",
   "name": "python",
   "nbconvert_exporter": "python",
   "pygments_lexer": "ipython3",
   "version": "3.8.0"
  }
 },
 "nbformat": 4,
 "nbformat_minor": 5
}
