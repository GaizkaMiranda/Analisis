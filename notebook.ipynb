{
 "cells": [
  {
   "cell_type": "markdown",
   "id": "249e0a7e",
   "metadata": {},
   "source": [
    "Import de todas las librerias necesarias.\n",
    "\n",
    "Nummpy: Operaciones numéricas eficientes y generación de datos aleatorios\n",
    "\n",
    "Pandas: Manipulación estructurada de datos\n",
    "\n",
    "Faker: Generación de datos realistas\n",
    "\n",
    "Matplotlib: Visualización gráfica de datos"
   ]
  },
  {
   "cell_type": "code",
   "execution_count": null,
   "id": "e4825ad4",
   "metadata": {},
   "outputs": [],
   "source": [
    "import numpy as np\n",
    "import pandas as pd\n",
    "from faker import Faker\n",
    "import matplotlib.pyplot as plt"
   ]
  },
  {
   "cell_type": "markdown",
   "id": "e7697aef",
   "metadata": {},
   "source": [
    "Inicializamos el generador de datos \"Faker\" para generar datos realistas como los nombres. Mediante \"es_ES\" generamos datos en castellano, por defecto los crearía en inglés."
   ]
  },
  {
   "cell_type": "code",
   "execution_count": 3,
   "id": "395fbea1",
   "metadata": {},
   "outputs": [],
   "source": [
    "fake = Faker('es_ES')"
   ]
  },
  {
   "cell_type": "markdown",
   "id": "275ad0f3",
   "metadata": {},
   "source": [
    "Configuramos las probabilidades para crear las notas. Suponemos que sacar entre 5 y 7 es lo más habitual, por eso lo establecemos a 0.5 y el otro 0.5 de probabilidad para el resto de notas.\n"
   ]
  },
  {
   "cell_type": "code",
   "execution_count": 4,
   "id": "2ac0d53b",
   "metadata": {},
   "outputs": [],
   "source": [
    "prob_5_7 = 0.5  \n",
    "prob_resto = 1 - prob_5_7 "
   ]
  },
  {
   "cell_type": "markdown",
   "id": "46187971",
   "metadata": {},
   "source": [
    "Generamos las 1000 notas gracias a la librería numpy y su función random. Estas se encontrarán entre 1 y 10."
   ]
  },
  {
   "cell_type": "code",
   "execution_count": 5,
   "id": "1f140d38",
   "metadata": {},
   "outputs": [],
   "source": [
    "notas = np.where(\n",
    "    np.random.rand(1000) < prob_5_7,  \n",
    "    np.clip(np.random.normal(loc=6, scale=1, size=1000), 5, 7),  \n",
    "    np.random.randint(1, 11, size=1000) \n",
    ")"
   ]
  },
  {
   "cell_type": "markdown",
   "id": "f3dfc4df",
   "metadata": {},
   "source": [
    "Creamos un diccionario de datos estructurado que luego se convertirá en un DataFrame de pandas.\n",
    "Generamos una lista de 1000 nombres completos aleatorios en español usando Faker, asignamos aleatoriamente una de las 3 asignaturas a cada estudiante y finalmente Asignamos las notas generadas previamente (array NumPy) y las convertimos a enteros.\n",
    "\n"
   ]
  },
  {
   "cell_type": "code",
   "execution_count": 6,
   "id": "9d4e0705",
   "metadata": {},
   "outputs": [],
   "source": [
    "data = {\n",
    "    'DNI': np.random.randint(1000, 9999, size=1000),\n",
    "    'Nombre': [f\"{fake.first_name()} {fake.last_name()}\" for _ in range(1000)],\n",
    "    'Asignatura': np.random.choice(['Matematicas', 'Fisica', 'Programacion'], 1000),\n",
    "    'Nota': notas.astype(int)  # Convertir a enteros\n",
    "}"
   ]
  },
  {
   "cell_type": "markdown",
   "id": "10806798",
   "metadata": {},
   "source": [
    "Convertimos el diccionario data en una tabla estructurada (DataFrame) de pandas con columnas \"Nombre\", \"Asignatura\" y \"Nota\" y lo guardamos en csv (alumnos_deusto).\n",
    "\n",
    "Añadimos encoding='utf-8-sig' para que solamente se utilicen los caracteres estandar, ya que sin ello, Faker genera nombres con tildes, por lo que en el csv aparecen mal.\n",
    "\n",
    "Ejemplo: En vez de Menéndez, aparece MenÃ©ndez"
   ]
  },
  {
   "cell_type": "code",
   "execution_count": 7,
   "id": "2e7517f4",
   "metadata": {},
   "outputs": [],
   "source": [
    "df = pd.DataFrame(data)\n",
    "df.to_csv('alumnos_deusto.csv', index=False, encoding='utf-8-sig')"
   ]
  },
  {
   "cell_type": "markdown",
   "id": "c6c464d7",
   "metadata": {},
   "source": [
    "Creamos un histograma con las notas del DataFrame, dividiéndolas en 10 intervalos (bins) y añadiendo bordes negros (edgecolor).\n",
    "Le añadimos título al gráfico (\"Distribución de Notas\") y etiquetas a los ejes (X: \"Nota\", Y: \"Frecuencia\") ty mostramos el histograma."
   ]
  },
  {
   "cell_type": "code",
   "execution_count": 8,
   "id": "10d75d2c",
   "metadata": {},
   "outputs": [
    {
     "data": {
      "image/png": "[encoded data removed]",
      "text/plain": [
       "<Figure size 640x480 with 1 Axes>"
      ]
     },
     "metadata": {},
     "output_type": "display_data"
    }
   ],
   "source": [
    "plt.hist(df['Nota'], bins=10, edgecolor='black')\n",
    "plt.title('Distribución de Notas')\n",
    "plt.xlabel('Nota')\n",
    "plt.ylabel('Frecuencia')\n",
    "plt.show()"
   ]
  },
  {
   "cell_type": "markdown",
   "id": "287a2dd8",
   "metadata": {},
   "source": [
    "Como podemos ver, la mayoría de notas, efectivamente se sitúan entre el 5 y el 7, creando una distribución normal."
   ]
  },
  {
   "cell_type": "markdown",
   "id": "2da90a4e",
   "metadata": {},
   "source": [
    "Cargamos el csv original para dividirlo en 2 archivos (alumnos  notas)"
   ]
  },
  {
   "cell_type": "code",
   "execution_count": 9,
   "id": "ddeda245",
   "metadata": {},
   "outputs": [],
   "source": [
    "df = pd.read_csv('alumnos_deusto.csv', encoding='utf-8-sig')"
   ]
  },
  {
   "cell_type": "markdown",
   "id": "70677a3b",
   "metadata": {},
   "source": [
    "Archivo de alumnos (sin notas)"
   ]
  },
  {
   "cell_type": "code",
   "execution_count": 10,
   "id": "b56aabd0",
   "metadata": {},
   "outputs": [],
   "source": [
    "df[['Nombre']].to_csv('alumnos.csv', index=False)\n"
   ]
  },
  {
   "cell_type": "markdown",
   "id": "7e96ae44",
   "metadata": {},
   "source": [
    "Archivo de notas (asignatura + nota)"
   ]
  },
  {
   "cell_type": "code",
   "execution_count": 11,
   "id": "8c072d8b",
   "metadata": {},
   "outputs": [],
   "source": [
    "df[['Asignatura', 'Nota']].to_csv('notas.csv', index=False)\n"
   ]
  },
  {
   "cell_type": "markdown",
   "id": "51e1e080",
   "metadata": {},
   "source": [
    "## Limpieza"
   ]
  },
  {
   "cell_type": "markdown",
   "id": "ae0efe1a",
   "metadata": {},
   "source": [
    "Duplicados: verificamos que no haya. En caso de haber borramos la segunda aparición y lo guardamos en otro csv."
   ]
  },
  {
   "cell_type": "code",
   "execution_count": 12,
   "id": "7dbec85c",
   "metadata": {},
   "outputs": [],
   "source": [
    "duplicados = df[df[\"DNI\"].duplicated()]"
   ]
  },
  {
   "cell_type": "code",
   "execution_count": 13,
   "id": "f6654d4c",
   "metadata": {},
   "outputs": [
    {
     "name": "stdout",
     "output_type": "stream",
     "text": [
      "Hay DNIs duplicados:\n",
      "      DNI                Nombre    Asignatura  Nota\n",
      "139  4017      Visitación Amaya   Matematicas     7\n",
      "180  7892      Severino Alberdi        Fisica     5\n",
      "219  6291             Nacio Mas   Matematicas     7\n",
      "282  4172  Jose Carlos Vendrell  Programacion     8\n",
      "314  4954        Valentín Sainz  Programacion     5\n",
      "326  1032      Maricruz Cáceres   Matematicas     6\n",
      "361  6454           Vera Millán   Matematicas     7\n",
      "400  1628         Alicia Quirós  Programacion     5\n",
      "435  2014       Heriberto Gomez  Programacion     5\n",
      "455  6764    Ildefonso Escolano  Programacion     1\n",
      "466  2197           Salomé Niño        Fisica     5\n",
      "471  1258  Miguel Ángel Colomer   Matematicas     5\n",
      "483  7596      Primitivo Trillo        Fisica     6\n",
      "485  3443        Miguel Beltran   Matematicas     5\n",
      "492  4324       Trinidad Abella   Matematicas     5\n",
      "512  5088       Edelmiro Marcos        Fisica     9\n",
      "627  4544        Damián Bastida        Fisica     1\n",
      "663  9709    Juan Luis Pellicer   Matematicas     5\n",
      "677  2949       Erasmo Paniagua        Fisica     7\n",
      "679  8880        Roldán Miranda   Matematicas     9\n",
      "696  1068          Ani Ferrando   Matematicas     5\n",
      "702  1950       Vidal Casanovas   Matematicas     6\n",
      "704  2014          Ovidio Pedro   Matematicas     6\n",
      "712  1421     María Pilar Perez        Fisica     6\n",
      "749  3134      Maximiano Feijoo  Programacion     7\n",
      "762  2694  Candelario Benavente   Matematicas     7\n",
      "766  3453         Delia Nicolás   Matematicas     6\n",
      "787  5858      Sosimo Capdevila  Programacion     5\n",
      "796  1267        Javier Vallejo  Programacion     7\n",
      "797  7810         Rosendo Giner   Matematicas    10\n",
      "803  6509         Delia Bermejo  Programacion     6\n",
      "831  5140      Cirino Ferrándiz  Programacion     7\n",
      "856  7622       Danilo Sanabria  Programacion     1\n",
      "880  9706       Armando Esteban   Matematicas     5\n",
      "905  4788       Plácido Esteban        Fisica     5\n",
      "906  8463         Alcides Tovar   Matematicas     4\n",
      "911  7995           Gema Valero   Matematicas     2\n",
      "948  1519       Darío Rodriguez   Matematicas     3\n",
      "953  9443         Caridad Ramón   Matematicas     1\n",
      "969  1898         Simón Abellán   Matematicas     6\n",
      "970  5850    Anastasia Palacios   Matematicas     5\n",
      "975  9736         Luís Aparicio  Programacion     7\n",
      "980  6792          Jacobo Prada        Fisica     5\n",
      "981  6073       Tristán Aguilar        Fisica     7\n",
      "982  3091         Flavio Larrea   Matematicas     7\n",
      "987  3544      Carmela Rosselló  Programacion     9\n"
     ]
    }
   ],
   "source": [
    "if not duplicados.empty:\n",
    "    print(\"Hay DNIs duplicados:\")\n",
    "    print(duplicados)\n",
    "else:\n",
    "    print(\"No hay DNIs duplicados.\")"
   ]
  },
  {
   "cell_type": "code",
   "execution_count": 14,
   "id": "4a814dd7",
   "metadata": {},
   "outputs": [],
   "source": [
    "df_sin_duplicados = df.drop_duplicates(subset='DNI', keep='first')\n",
    "df_sin_duplicados.to_csv(\"alumnos_deusto_sin_duplicados.csv\", index=False)\n"
   ]
  },
  {
   "cell_type": "code",
   "execution_count": 17,
   "id": "31f50793",
   "metadata": {},
   "outputs": [
    {
     "name": "stdout",
     "output_type": "stream",
     "text": [
      "Valores nulos por columna:\n",
      "DNI           0\n",
      "Nombre        0\n",
      "Asignatura    0\n",
      "Nota          0\n",
      "dtype: int64 \n",
      "\n",
      "Tamaño tras dropna: (954, 4)\n"
     ]
    }
   ],
   "source": [
    "df = pd.read_csv('alumnos_deusto_sin_duplicados.csv', encoding='utf-8-sig')\n",
    "\n",
    "print(\"Valores nulos por columna:\")\n",
    "print(df.isnull().sum(), \"\\n\")\n",
    "\n",
    "df_sin_nulos = df.dropna()\n",
    "print(\"Tamaño tras dropna:\", df_sin_nulos.shape)\n",
    "\n",
    "df_sin_nulos.to_csv(\"alumnos_deusto_sin_nulos.csv\", index=False)"
   ]
  },
  {
   "cell_type": "code",
   "execution_count": 21,
   "id": "491960f4",
   "metadata": {},
   "outputs": [
    {
     "name": "stdout",
     "output_type": "stream",
     "text": [
      "Resumen (describe):\n",
      "count    954.000000\n",
      "mean       5.617400\n",
      "std        2.086118\n",
      "min        1.000000\n",
      "25%        5.000000\n",
      "50%        6.000000\n",
      "75%        7.000000\n",
      "max       10.000000\n",
      "Name: Nota, dtype: float64\n",
      "\n",
      "Mediana:\n",
      "6.0\n",
      "\n",
      "Mínimo:\n",
      "1\n",
      "Máximo:\n",
      "10\n",
      "\n",
      "Media:\n",
      "5.617400419287212\n",
      "Desviación estándar:\n",
      "2.086118400811275\n",
      "\n",
      "Varianza:\n",
      "4.351889982203391\n",
      "Rango (max-min):\n",
      "9\n"
     ]
    }
   ],
   "source": [
    "df = pd.read_csv('alumnos_deusto_sin_nulos.csv', encoding='utf-8-sig')\n",
    "\n",
    "# Estadísticas descriptivas de la nota\n",
    "print(\"Resumen (describe):\")\n",
    "print(df['Nota'].describe())\n",
    "\n",
    "# Mediana\n",
    "print(\"\\nMediana:\")\n",
    "print(df['Nota'].median())\n",
    "\n",
    "# Mínimo y máximo\n",
    "print(\"\\nMínimo:\")\n",
    "print(df['Nota'].min())\n",
    "print(\"Máximo:\")\n",
    "print(df['Nota'].max())\n",
    "\n",
    "# Media y desviación estándar\n",
    "print(\"\\nMedia:\")\n",
    "print(df['Nota'].mean())\n",
    "print(\"Desviación estándar:\")\n",
    "print(df['Nota'].std())\n",
    "\n",
    "# Varianza y rango\n",
    "print(\"\\nVarianza:\")\n",
    "print(df['Nota'].var())\n",
    "print(\"Rango (max-min):\")\n",
    "print(df['Nota'].max() - df['Nota'].min())\n",
    "\n",
    "\n"
   ]
  },
  {
   "cell_type": "code",
   "execution_count": 23,
   "id": "4c196d45",
   "metadata": {},
   "outputs": [
    {
     "data": {
      "image/png": "[encoded data removed]",
      "text/plain": [
       "<Figure size 640x480 with 1 Axes>"
      ]
     },
     "metadata": {},
     "output_type": "display_data"
    },
    {
     "data": {
      "image/png": "[encoded data removed]",
      "text/plain": [
       "<Figure size 640x480 with 1 Axes>"
      ]
     },
     "metadata": {},
     "output_type": "display_data"
    },
    {
     "ename": "KeyError",
     "evalue": "'horas_estudio'",
     "output_type": "error",
     "traceback": [
      "\u001b[31m---------------------------------------------------------------------------\u001b[39m",
      "\u001b[31mKeyError\u001b[39m                                  Traceback (most recent call last)",
      "\u001b[36mFile \u001b[39m\u001b[32m~\\AppData\\Roaming\\Python\\Python313\\site-packages\\pandas\\core\\indexes\\base.py:3805\u001b[39m, in \u001b[36mIndex.get_loc\u001b[39m\u001b[34m(self, key)\u001b[39m\n\u001b[32m   3804\u001b[39m \u001b[38;5;28;01mtry\u001b[39;00m:\n\u001b[32m-> \u001b[39m\u001b[32m3805\u001b[39m     \u001b[38;5;28;01mreturn\u001b[39;00m \u001b[38;5;28;43mself\u001b[39;49m\u001b[43m.\u001b[49m\u001b[43m_engine\u001b[49m\u001b[43m.\u001b[49m\u001b[43mget_loc\u001b[49m\u001b[43m(\u001b[49m\u001b[43mcasted_key\u001b[49m\u001b[43m)\u001b[49m\n\u001b[32m   3806\u001b[39m \u001b[38;5;28;01mexcept\u001b[39;00m \u001b[38;5;167;01mKeyError\u001b[39;00m \u001b[38;5;28;01mas\u001b[39;00m err:\n",
      "\u001b[36mFile \u001b[39m\u001b[32mindex.pyx:167\u001b[39m, in \u001b[36mpandas._libs.index.IndexEngine.get_loc\u001b[39m\u001b[34m()\u001b[39m\n",
      "\u001b[36mFile \u001b[39m\u001b[32mindex.pyx:196\u001b[39m, in \u001b[36mpandas._libs.index.IndexEngine.get_loc\u001b[39m\u001b[34m()\u001b[39m\n",
      "\u001b[36mFile \u001b[39m\u001b[32mpandas\\\\_libs\\\\hashtable_class_helper.pxi:7081\u001b[39m, in \u001b[36mpandas._libs.hashtable.PyObjectHashTable.get_item\u001b[39m\u001b[34m()\u001b[39m\n",
      "\u001b[36mFile \u001b[39m\u001b[32mpandas\\\\_libs\\\\hashtable_class_helper.pxi:7089\u001b[39m, in \u001b[36mpandas._libs.hashtable.PyObjectHashTable.get_item\u001b[39m\u001b[34m()\u001b[39m\n",
      "\u001b[31mKeyError\u001b[39m: 'horas_estudio'",
      "\nThe above exception was the direct cause of the following exception:\n",
      "\u001b[31mKeyError\u001b[39m                                  Traceback (most recent call last)",
      "\u001b[36mCell\u001b[39m\u001b[36m \u001b[39m\u001b[32mIn[23]\u001b[39m\u001b[32m, line 15\u001b[39m\n\u001b[32m     13\u001b[39m \u001b[38;5;66;03m# B) Scatter: ejemplo horas_estudio vs nota (ajusta nombres)\u001b[39;00m\n\u001b[32m     14\u001b[39m plt.figure()\n\u001b[32m---> \u001b[39m\u001b[32m15\u001b[39m plt.scatter(\u001b[43mdf\u001b[49m\u001b[43m[\u001b[49m\u001b[33;43m'\u001b[39;49m\u001b[33;43mhoras_estudio\u001b[39;49m\u001b[33;43m'\u001b[39;49m\u001b[43m]\u001b[49m, df[\u001b[33m'\u001b[39m\u001b[33mNota\u001b[39m\u001b[33m'\u001b[39m])\n\u001b[32m     16\u001b[39m plt.title(\u001b[33m'\u001b[39m\u001b[33mHoras de Estudio vs. Nota\u001b[39m\u001b[33m'\u001b[39m)\n\u001b[32m     17\u001b[39m plt.xlabel(\u001b[33m'\u001b[39m\u001b[33mHoras de Estudio\u001b[39m\u001b[33m'\u001b[39m)\n",
      "\u001b[36mFile \u001b[39m\u001b[32m~\\AppData\\Roaming\\Python\\Python313\\site-packages\\pandas\\core\\frame.py:4102\u001b[39m, in \u001b[36mDataFrame.__getitem__\u001b[39m\u001b[34m(self, key)\u001b[39m\n\u001b[32m   4100\u001b[39m \u001b[38;5;28;01mif\u001b[39;00m \u001b[38;5;28mself\u001b[39m.columns.nlevels > \u001b[32m1\u001b[39m:\n\u001b[32m   4101\u001b[39m     \u001b[38;5;28;01mreturn\u001b[39;00m \u001b[38;5;28mself\u001b[39m._getitem_multilevel(key)\n\u001b[32m-> \u001b[39m\u001b[32m4102\u001b[39m indexer = \u001b[38;5;28;43mself\u001b[39;49m\u001b[43m.\u001b[49m\u001b[43mcolumns\u001b[49m\u001b[43m.\u001b[49m\u001b[43mget_loc\u001b[49m\u001b[43m(\u001b[49m\u001b[43mkey\u001b[49m\u001b[43m)\u001b[49m\n\u001b[32m   4103\u001b[39m \u001b[38;5;28;01mif\u001b[39;00m is_integer(indexer):\n\u001b[32m   4104\u001b[39m     indexer = [indexer]\n",
      "\u001b[36mFile \u001b[39m\u001b[32m~\\AppData\\Roaming\\Python\\Python313\\site-packages\\pandas\\core\\indexes\\base.py:3812\u001b[39m, in \u001b[36mIndex.get_loc\u001b[39m\u001b[34m(self, key)\u001b[39m\n\u001b[32m   3807\u001b[39m     \u001b[38;5;28;01mif\u001b[39;00m \u001b[38;5;28misinstance\u001b[39m(casted_key, \u001b[38;5;28mslice\u001b[39m) \u001b[38;5;129;01mor\u001b[39;00m (\n\u001b[32m   3808\u001b[39m         \u001b[38;5;28misinstance\u001b[39m(casted_key, abc.Iterable)\n\u001b[32m   3809\u001b[39m         \u001b[38;5;129;01mand\u001b[39;00m \u001b[38;5;28many\u001b[39m(\u001b[38;5;28misinstance\u001b[39m(x, \u001b[38;5;28mslice\u001b[39m) \u001b[38;5;28;01mfor\u001b[39;00m x \u001b[38;5;129;01min\u001b[39;00m casted_key)\n\u001b[32m   3810\u001b[39m     ):\n\u001b[32m   3811\u001b[39m         \u001b[38;5;28;01mraise\u001b[39;00m InvalidIndexError(key)\n\u001b[32m-> \u001b[39m\u001b[32m3812\u001b[39m     \u001b[38;5;28;01mraise\u001b[39;00m \u001b[38;5;167;01mKeyError\u001b[39;00m(key) \u001b[38;5;28;01mfrom\u001b[39;00m\u001b[38;5;250m \u001b[39m\u001b[34;01merr\u001b[39;00m\n\u001b[32m   3813\u001b[39m \u001b[38;5;28;01mexcept\u001b[39;00m \u001b[38;5;167;01mTypeError\u001b[39;00m:\n\u001b[32m   3814\u001b[39m     \u001b[38;5;66;03m# If we have a listlike key, _check_indexing_error will raise\u001b[39;00m\n\u001b[32m   3815\u001b[39m     \u001b[38;5;66;03m#  InvalidIndexError. Otherwise we fall through and re-raise\u001b[39;00m\n\u001b[32m   3816\u001b[39m     \u001b[38;5;66;03m#  the TypeError.\u001b[39;00m\n\u001b[32m   3817\u001b[39m     \u001b[38;5;28mself\u001b[39m._check_indexing_error(key)\n",
      "\u001b[31mKeyError\u001b[39m: 'horas_estudio'"
     ]
    },
    {
     "data": {
      "text/plain": [
       "<Figure size 640x480 with 0 Axes>"
      ]
     },
     "metadata": {},
     "output_type": "display_data"
    }
   ],
   "source": [
    "import matplotlib.pyplot as plt\n",
    "\n",
    "# A) Histogramas de todas las variables numéricas\n",
    "num_cols = df.select_dtypes(include='number').columns\n",
    "for col in num_cols:\n",
    "    plt.figure()\n",
    "    df[col].hist(bins=10)\n",
    "    plt.title(f'Histograma de {col}')\n",
    "    plt.xlabel(col)\n",
    "    plt.ylabel('Frecuencia')\n",
    "    plt.show()\n",
    "\n",
    "# B) Scatter: ejemplo horas_estudio vs nota (ajusta nombres)\n",
    "plt.figure()\n",
    "plt.scatter(df['horas_estudio'], df['Nota'])\n",
    "plt.title('Horas de Estudio vs. Nota')\n",
    "plt.xlabel('Horas de Estudio')\n",
    "plt.ylabel('Nota')\n",
    "plt.show()\n",
    "\n",
    "# C) Boxplot de notas por asignatura\n",
    "plt.figure(figsize=(8,5))\n",
    "df.boxplot(column='Nota', by='asignatura', rot=45)\n",
    "plt.title('Notas por Asignatura')\n",
    "plt.suptitle('')\n",
    "plt.xlabel('Asignatura')\n",
    "plt.ylabel('Nota')\n",
    "plt.show()\n",
    "\n",
    "# D) Matriz de correlación y heatmap\n",
    "import numpy as np\n",
    "corr = df[num_cols].corr()\n",
    "plt.figure(figsize=(6,5))\n",
    "plt.imshow(corr, interpolation='nearest', cmap='coolwarm')\n",
    "plt.colorbar()\n",
    "plt.xticks(range(len(corr)), corr.columns, rotation=45)\n",
    "plt.yticks(range(len(corr)), corr.columns)\n",
    "plt.title('Matriz de Correlación')\n",
    "plt.show()\n"
   ]
  }
 ],
 "metadata": {
  "kernelspec": {
   "display_name": "Python 3",
   "language": "python",
   "name": "python3"
  },
  "language_info": {
   "codemirror_mode": {
    "name": "ipython",
    "version": 3
   },
   "file_extension": ".py",
   "mimetype": "text/x-python",
   "name": "python",
   "nbconvert_exporter": "python",
   "pygments_lexer": "ipython3",
   "version": "3.13.1"
  }
 },
 "nbformat": 4,
 "nbformat_minor": 5
}
